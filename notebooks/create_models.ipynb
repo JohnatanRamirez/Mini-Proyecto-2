{
 "cells": [
  {
   "cell_type": "code",
   "execution_count": 1,
   "metadata": {},
   "outputs": [],
   "source": [
    "import pandas as pd\n",
    "import numpy as np\n",
    "\n",
    "# sklearn tools\n",
    "from sklearn.model_selection import train_test_split, GridSearchCV\n",
    "from sklearn.preprocessing import StandardScaler\n",
    "from sklearn.metrics import accuracy_score\n",
    "\n",
    "# modelos\n",
    "from sklearn.ensemble import RandomForestClassifier\n",
    "from sklearn.linear_model import LogisticRegression\n",
    "from sklearn.svm import SVC\n",
    "from sklearn.neighbors import KNeighborsClassifier\n",
    "from sklearn.tree import DecisionTreeClassifier"
   ]
  },
  {
   "cell_type": "code",
   "execution_count": 2,
   "metadata": {},
   "outputs": [],
   "source": [
    "# Cargar el dataset procesado\n",
    "dataset = pd.read_csv('../data/processed/features_for_model.csv')\n",
    "# dataset = pd.read_csv('features_for_model.csv')"
   ]
  },
  {
   "cell_type": "code",
   "execution_count": 3,
   "metadata": {},
   "outputs": [],
   "source": [
    "X = dataset.drop(['HighSatisfaction'], axis=1)\n",
    "y = dataset['HighSatisfaction']"
   ]
  },
  {
   "cell_type": "code",
   "execution_count": 4,
   "metadata": {},
   "outputs": [],
   "source": [
    "# Dividir en train y test\n",
    "X_train, X_test, y_train, y_test = train_test_split(X, y, test_size=0.3, shuffle=True, random_state=2025)"
   ]
  },
  {
   "cell_type": "code",
   "execution_count": 5,
   "metadata": {},
   "outputs": [],
   "source": [
    "# Escalar los datos\n",
    "std_scaler = StandardScaler()\n",
    "X_train_std = std_scaler.fit_transform(X_train)\n",
    "X_test_std = std_scaler.transform(X_test)"
   ]
  },
  {
   "cell_type": "code",
   "execution_count": 6,
   "metadata": {},
   "outputs": [],
   "source": [
    "# Guardar el scaler\n",
    "import pickle\n",
    "with open('../artifacts/std_scaler.pkl', 'wb') as f:\n",
    "    pickle.dump(std_scaler, f)\n",
    "\n",
    "#with open('std_scaler.pkl', 'wb') as f:\n",
    "    #pickle.dump(std_scaler, f)"
   ]
  },
  {
   "cell_type": "code",
   "execution_count": 7,
   "metadata": {},
   "outputs": [],
   "source": [
    "# Definir modelos e hiperparámetros\n",
    "# Modelo 1: Random Forest\n",
    "modelo_rf = RandomForestClassifier(n_estimators=100, max_depth=None, random_state=2025) #aqui se modifican los hiperparametros n_estimators, max_depth y random_state\n",
    "modelo_rf.fit(X_train_std, y_train)\n",
    "y_preds_rf = modelo_rf.predict(X_test_std)\n",
    "accuracy_rf = accuracy_score(y_test, y_preds_rf)"
   ]
  },
  {
   "cell_type": "code",
   "execution_count": 8,
   "metadata": {},
   "outputs": [],
   "source": [
    "# Modelo 2: Regresión Logística\n",
    "modelo_rl = LogisticRegression(C=1.0, solver='liblinear', random_state=2025) #los hiperparametros son C, solver y random_state\n",
    "modelo_rl.fit(X_train_std, y_train)\n",
    "y_preds_rl = modelo_rl.predict(X_test_std)\n",
    "accuracy_rl = accuracy_score(y_test, y_preds_rl)"
   ]
  },
  {
   "cell_type": "code",
   "execution_count": 9,
   "metadata": {},
   "outputs": [],
   "source": [
    "# Modelo 3: SVC\n",
    "modelo_svc = SVC(C=1.0, kernel='rbf', random_state=2025) # hiperparametros C, kernel y random_state\n",
    "modelo_svc.fit(X_train_std, y_train)\n",
    "y_preds_svc = modelo_svc.predict(X_test_std)\n",
    "accuracy_svc = accuracy_score(y_test, y_preds_svc)"
   ]
  },
  {
   "cell_type": "code",
   "execution_count": 10,
   "metadata": {},
   "outputs": [],
   "source": [
    "# Modelo 4: K-Nearest Neighbors\n",
    "modelo_knn = KNeighborsClassifier(n_neighbors=5, weights='uniform') # hiperparametros n_neighbors y weights\n",
    "modelo_knn.fit(X_train_std, y_train)\n",
    "y_preds_knn = modelo_knn.predict(X_test_std)\n",
    "accuracy_knn = accuracy_score(y_test, y_preds_knn)"
   ]
  },
  {
   "cell_type": "code",
   "execution_count": 11,
   "metadata": {},
   "outputs": [],
   "source": [
    "# Modelo 5: Árbol de Decisión\n",
    "modelo_dt = DecisionTreeClassifier(max_depth=None, min_samples_split=2, random_state=2025) #hiper parametros max_depth, min_samples_split y random_state\n",
    "modelo_dt.fit(X_train_std, y_train)\n",
    "y_preds_dt = modelo_dt.predict(X_test_std)\n",
    "accuracy_dt = accuracy_score(y_test, y_preds_dt)"
   ]
  },
  {
   "cell_type": "code",
   "execution_count": 12,
   "metadata": {},
   "outputs": [],
   "source": [
    "# Comparar resultados\n",
    "resultados = {\n",
    "    'RandomForest': accuracy_rf,\n",
    "    'LogisticRegression': accuracy_rl,\n",
    "    'SVC': accuracy_svc,\n",
    "    'KNeighbors': accuracy_knn,\n",
    "    'DecisionTree': accuracy_dt\n",
    "}"
   ]
  },
  {
   "cell_type": "code",
   "execution_count": 13,
   "metadata": {},
   "outputs": [
    {
     "name": "stdout",
     "output_type": "stream",
     "text": [
      "Resultados de precisión por modelo:\n",
      "RandomForest: 0.9615\n",
      "LogisticRegression: 0.7656\n",
      "SVC: 0.8608\n",
      "KNeighbors: 0.7674\n",
      "DecisionTree: 0.8608\n"
     ]
    }
   ],
   "source": [
    "print(\"Resultados de precisión por modelo:\")\n",
    "for modelo, accuracy in resultados.items():\n",
    "    print(f\"{modelo}: {accuracy:.4f}\")"
   ]
  },
  {
   "cell_type": "code",
   "execution_count": 14,
   "metadata": {},
   "outputs": [],
   "source": [
    "with open('../models/random_forest_v1.pkl', 'wb') as f:\n",
    "    pickle.dump(modelo_rf,f)\n",
    "\n",
    "#Aqui se guarda el modelo que haya dado los mejores resultados, en mi caso Random Forest\n",
    "#with open('random_forest_v1.pkl', 'wb') as f:\n",
    "    #pickle.dump(modelo_rf,f)"
   ]
  }
 ],
 "metadata": {
  "kernelspec": {
   "display_name": "venv-bank-churning-B",
   "language": "python",
   "name": "python3"
  },
  "language_info": {
   "codemirror_mode": {
    "name": "ipython",
    "version": 3
   },
   "file_extension": ".py",
   "mimetype": "text/x-python",
   "name": "python",
   "nbconvert_exporter": "python",
   "pygments_lexer": "ipython3",
   "version": "3.11.10"
  }
 },
 "nbformat": 4,
 "nbformat_minor": 2
}
